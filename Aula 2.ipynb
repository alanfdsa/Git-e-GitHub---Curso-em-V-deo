{
 "cells": [
  {
   "cell_type": "markdown",
   "id": "6bae9c38",
   "metadata": {},
   "source": [
    "# Instalando o Git e GitHub\n",
    "\n",
    "Não tem muito segredo, é só clicar nos sites abaixo a baixar os arquivos respectivamente. Não sei se é necessário esta ordem, mas instalei primeiro o Git e depois o GitHub"
   ]
  },
  {
   "cell_type": "markdown",
   "id": "98051e30",
   "metadata": {},
   "source": [
    "https://git-scm.com/\n",
    "\n",
    "https://desktop.github.com/"
   ]
  },
  {
   "cell_type": "markdown",
   "id": "71b95a5a",
   "metadata": {},
   "source": [
    "# Commit, Push e Pull"
   ]
  },
  {
   "cell_type": "markdown",
   "id": "1619fba3",
   "metadata": {},
   "source": [
    "Quando as modificações são *commitadas*, as alterações são salvas no repositório LOCAL. Daí, se utilizamos o *push*, essas alterações são enviadas pro reposítório REMOTO, i.e, o GitHub.\n",
    "\n",
    "É possível também no aplicativo do GH acionar o comando *fetch origin*, que vai comparar os arquivos remotamente e localmente, de forma que as alterações nos arquivos que foram feitas são identificadas. Com isto em mente, o comando *pull* serve justamente para trazer os arquivos da nuvem para o repositorio local.\n",
    "\n",
    "PS: Todos estes comandos foram utilizados no aplicativo do GH e não no terminal, como geralmente é feito."
   ]
  }
 ],
 "metadata": {
  "kernelspec": {
   "display_name": "Python 3 (ipykernel)",
   "language": "python",
   "name": "python3"
  },
  "language_info": {
   "codemirror_mode": {
    "name": "ipython",
    "version": 3
   },
   "file_extension": ".py",
   "mimetype": "text/x-python",
   "name": "python",
   "nbconvert_exporter": "python",
   "pygments_lexer": "ipython3",
   "version": "3.9.13"
  },
  "varInspector": {
   "cols": {
    "lenName": 16,
    "lenType": 16,
    "lenVar": 40
   },
   "kernels_config": {
    "python": {
     "delete_cmd_postfix": "",
     "delete_cmd_prefix": "del ",
     "library": "var_list.py",
     "varRefreshCmd": "print(var_dic_list())"
    },
    "r": {
     "delete_cmd_postfix": ") ",
     "delete_cmd_prefix": "rm(",
     "library": "var_list.r",
     "varRefreshCmd": "cat(var_dic_list()) "
    }
   },
   "types_to_exclude": [
    "module",
    "function",
    "builtin_function_or_method",
    "instance",
    "_Feature"
   ],
   "window_display": false
  }
 },
 "nbformat": 4,
 "nbformat_minor": 5
}
